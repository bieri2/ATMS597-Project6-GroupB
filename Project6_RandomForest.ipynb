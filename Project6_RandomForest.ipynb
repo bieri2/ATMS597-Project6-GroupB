{
  "nbformat": 4,
  "nbformat_minor": 0,
  "metadata": {
    "kernelspec": {
      "display_name": "Python 3",
      "language": "python",
      "name": "python3"
    },
    "language_info": {
      "codemirror_mode": {
        "name": "ipython",
        "version": 3
      },
      "file_extension": ".py",
      "mimetype": "text/x-python",
      "name": "python",
      "nbconvert_exporter": "python",
      "pygments_lexer": "ipython3",
      "version": "3.7.6"
    },
    "colab": {
      "name": "Project6_RandomForest.ipynb",
      "provenance": [],
      "collapsed_sections": [
        "ngZk26AenQ4O"
      ]
    }
  },
  "cells": [
    {
      "cell_type": "markdown",
      "metadata": {
        "id": "VQoZ463m4e5g",
        "colab_type": "text"
      },
      "source": [
        "## First, get the data into a useful format"
      ]
    },
    {
      "cell_type": "code",
      "metadata": {
        "id": "wdCgUHKC4e5k",
        "colab_type": "code",
        "colab": {
          "base_uri": "https://localhost:8080/",
          "height": 36
        },
        "outputId": "04a42632-61ca-44c2-c496-4e5c1a9bce56"
      },
      "source": [
        "import glob\n",
        "import pandas as pd\n",
        "import numpy as np\n",
        "import datetime\n",
        "from sklearn.linear_model import LogisticRegression\n",
        "!pip install wget\n",
        "import wget\n",
        "from sklearn.model_selection import train_test_split\n",
        "from sklearn.linear_model import LogisticRegression\n",
        "import copy\n",
        "from sklearn.metrics import confusion_matrix\n",
        "from datetime import datetime\n",
        "import matplotlib as mpl\n",
        "import matplotlib.pyplot as plt\n",
        "from sklearn import svm\n",
        "from sklearn.metrics import brier_score_loss\n",
        "from sklearn import svm\n",
        "import seaborn as sns\n",
        "from sklearn.ensemble import RandomForestRegressor"
      ],
      "execution_count": 29,
      "outputs": [
        {
          "output_type": "stream",
          "text": [
            "Requirement already satisfied: wget in /usr/local/lib/python3.6/dist-packages (3.2)\n"
          ],
          "name": "stdout"
        }
      ]
    },
    {
      "cell_type": "code",
      "metadata": {
        "id": "qzNNdUjb6U9S",
        "colab_type": "code",
        "outputId": "595fed0f-f5f6-40de-ea4b-cedb7fd42bd5",
        "colab": {
          "base_uri": "https://localhost:8080/",
          "height": 130
        }
      },
      "source": [
        "from google.colab import drive\n",
        "drive.mount('/content/drive')"
      ],
      "execution_count": 5,
      "outputs": [
        {
          "output_type": "stream",
          "text": [
            "Go to this URL in a browser: https://accounts.google.com/o/oauth2/auth?client_id=947318989803-6bn6qk8qdgf4n4g3pfee6491hc0brc4i.apps.googleusercontent.com&redirect_uri=urn%3aietf%3awg%3aoauth%3a2.0%3aoob&response_type=code&scope=email%20https%3a%2f%2fwww.googleapis.com%2fauth%2fdocs.test%20https%3a%2f%2fwww.googleapis.com%2fauth%2fdrive%20https%3a%2f%2fwww.googleapis.com%2fauth%2fdrive.photos.readonly%20https%3a%2f%2fwww.googleapis.com%2fauth%2fpeopleapi.readonly\n",
            "\n",
            "Enter your authorization code:\n",
            "··········\n",
            "Mounted at /content/drive\n"
          ],
          "name": "stdout"
        }
      ]
    },
    {
      "cell_type": "code",
      "metadata": {
        "id": "A7PnajMSfsw5",
        "colab_type": "code",
        "colab": {}
      },
      "source": [
        "# Set your directory path\n",
        "#YOUR_DIRECTORY = '/content/drive/My Drive/ATMS597 Weather Climate Data Analysis/Module 6/Project 6/'  # Chu-Chun\n",
        "YOUR_DIRECTORY = '/content/drive/My Drive/Colab Notebooks/Project_6/' # Jeff"
      ],
      "execution_count": 0,
      "outputs": []
    },
    {
      "cell_type": "code",
      "metadata": {
        "id": "Z300Ha6rglf8",
        "colab_type": "code",
        "colab": {
          "base_uri": "https://localhost:8080/",
          "height": 444
        },
        "outputId": "1b33defe-aeb5-4acb-c1aa-3ea205b769b7"
      },
      "source": [
        "# Read in datafile\n",
        "features = pd.read_csv(YOUR_DIRECTORY + 'SouthAmericanRainfall_MJOIndices_v1.csv', index_col = 'Unnamed: 0')\n",
        "features.columns.name = 'Date'\n",
        "features = features.dropna()\n",
        "features.index = pd.to_datetime(features.index)\n",
        "\n",
        "# Add year, month, day as features\n",
        "features['Year'] = features.index.year\n",
        "features['Month'] = features.index.month\n",
        "features['Day'] = features.index.day\n",
        "features"
      ],
      "execution_count": 25,
      "outputs": [
        {
          "output_type": "execute_result",
          "data": {
            "text/html": [
              "<div>\n",
              "<style scoped>\n",
              "    .dataframe tbody tr th:only-of-type {\n",
              "        vertical-align: middle;\n",
              "    }\n",
              "\n",
              "    .dataframe tbody tr th {\n",
              "        vertical-align: top;\n",
              "    }\n",
              "\n",
              "    .dataframe thead th {\n",
              "        text-align: right;\n",
              "    }\n",
              "</style>\n",
              "<table border=\"1\" class=\"dataframe\">\n",
              "  <thead>\n",
              "    <tr style=\"text-align: right;\">\n",
              "      <th>Date</th>\n",
              "      <th>BahiaBlanca_Rainfall</th>\n",
              "      <th>MJOPhase_OLR</th>\n",
              "      <th>MJOLongitude_OLR</th>\n",
              "      <th>MJOAmplitude_OLR</th>\n",
              "      <th>MJOPhase_Chi200</th>\n",
              "      <th>MJOLongitude_Chi200</th>\n",
              "      <th>MJOAmplitude_Chi200</th>\n",
              "      <th>ERA5_Soil_Moisture_Lev1</th>\n",
              "      <th>ERA5_Soil_Moisture_Lev2</th>\n",
              "      <th>Year</th>\n",
              "      <th>Month</th>\n",
              "      <th>Day</th>\n",
              "    </tr>\n",
              "  </thead>\n",
              "  <tbody>\n",
              "    <tr>\n",
              "      <th>1980-01-01</th>\n",
              "      <td>0.0</td>\n",
              "      <td>5</td>\n",
              "      <td>148.6</td>\n",
              "      <td>0.6049</td>\n",
              "      <td>5</td>\n",
              "      <td>175.4</td>\n",
              "      <td>0.5459</td>\n",
              "      <td>0.209384</td>\n",
              "      <td>0.205773</td>\n",
              "      <td>1980</td>\n",
              "      <td>1</td>\n",
              "      <td>1</td>\n",
              "    </tr>\n",
              "    <tr>\n",
              "      <th>1980-01-02</th>\n",
              "      <td>0.0</td>\n",
              "      <td>5</td>\n",
              "      <td>164.0</td>\n",
              "      <td>0.6069</td>\n",
              "      <td>6</td>\n",
              "      <td>187.0</td>\n",
              "      <td>0.7355</td>\n",
              "      <td>0.181627</td>\n",
              "      <td>0.198426</td>\n",
              "      <td>1980</td>\n",
              "      <td>1</td>\n",
              "      <td>2</td>\n",
              "    </tr>\n",
              "    <tr>\n",
              "      <th>1980-01-03</th>\n",
              "      <td>0.0</td>\n",
              "      <td>5</td>\n",
              "      <td>176.0</td>\n",
              "      <td>0.5613</td>\n",
              "      <td>6</td>\n",
              "      <td>198.4</td>\n",
              "      <td>0.6891</td>\n",
              "      <td>0.175117</td>\n",
              "      <td>0.192707</td>\n",
              "      <td>1980</td>\n",
              "      <td>1</td>\n",
              "      <td>3</td>\n",
              "    </tr>\n",
              "    <tr>\n",
              "      <th>1980-01-04</th>\n",
              "      <td>0.0</td>\n",
              "      <td>6</td>\n",
              "      <td>185.2</td>\n",
              "      <td>0.6842</td>\n",
              "      <td>6</td>\n",
              "      <td>191.3</td>\n",
              "      <td>0.7448</td>\n",
              "      <td>0.150012</td>\n",
              "      <td>0.179462</td>\n",
              "      <td>1980</td>\n",
              "      <td>1</td>\n",
              "      <td>4</td>\n",
              "    </tr>\n",
              "    <tr>\n",
              "      <th>1980-01-05</th>\n",
              "      <td>18.0</td>\n",
              "      <td>6</td>\n",
              "      <td>199.9</td>\n",
              "      <td>0.8435</td>\n",
              "      <td>6</td>\n",
              "      <td>215.7</td>\n",
              "      <td>0.8425</td>\n",
              "      <td>0.191845</td>\n",
              "      <td>0.175685</td>\n",
              "      <td>1980</td>\n",
              "      <td>1</td>\n",
              "      <td>5</td>\n",
              "    </tr>\n",
              "    <tr>\n",
              "      <th>...</th>\n",
              "      <td>...</td>\n",
              "      <td>...</td>\n",
              "      <td>...</td>\n",
              "      <td>...</td>\n",
              "      <td>...</td>\n",
              "      <td>...</td>\n",
              "      <td>...</td>\n",
              "      <td>...</td>\n",
              "      <td>...</td>\n",
              "      <td>...</td>\n",
              "      <td>...</td>\n",
              "      <td>...</td>\n",
              "    </tr>\n",
              "    <tr>\n",
              "      <th>2019-12-20</th>\n",
              "      <td>2.0</td>\n",
              "      <td>4</td>\n",
              "      <td>116.2</td>\n",
              "      <td>0.5752</td>\n",
              "      <td>5</td>\n",
              "      <td>139.0</td>\n",
              "      <td>1.0510</td>\n",
              "      <td>0.235895</td>\n",
              "      <td>0.146751</td>\n",
              "      <td>2019</td>\n",
              "      <td>12</td>\n",
              "      <td>20</td>\n",
              "    </tr>\n",
              "    <tr>\n",
              "      <th>2019-12-21</th>\n",
              "      <td>0.0</td>\n",
              "      <td>5</td>\n",
              "      <td>136.8</td>\n",
              "      <td>0.5292</td>\n",
              "      <td>5</td>\n",
              "      <td>148.3</td>\n",
              "      <td>1.3558</td>\n",
              "      <td>0.205727</td>\n",
              "      <td>0.149838</td>\n",
              "      <td>2019</td>\n",
              "      <td>12</td>\n",
              "      <td>21</td>\n",
              "    </tr>\n",
              "    <tr>\n",
              "      <th>2019-12-28</th>\n",
              "      <td>0.0</td>\n",
              "      <td>7</td>\n",
              "      <td>247.8</td>\n",
              "      <td>0.8633</td>\n",
              "      <td>7</td>\n",
              "      <td>252.5</td>\n",
              "      <td>0.9382</td>\n",
              "      <td>0.127302</td>\n",
              "      <td>0.142428</td>\n",
              "      <td>2019</td>\n",
              "      <td>12</td>\n",
              "      <td>28</td>\n",
              "    </tr>\n",
              "    <tr>\n",
              "      <th>2019-12-30</th>\n",
              "      <td>5.1</td>\n",
              "      <td>8</td>\n",
              "      <td>277.6</td>\n",
              "      <td>0.6520</td>\n",
              "      <td>8</td>\n",
              "      <td>291.6</td>\n",
              "      <td>0.7442</td>\n",
              "      <td>0.162332</td>\n",
              "      <td>0.140790</td>\n",
              "      <td>2019</td>\n",
              "      <td>12</td>\n",
              "      <td>30</td>\n",
              "    </tr>\n",
              "    <tr>\n",
              "      <th>2019-12-31</th>\n",
              "      <td>11.9</td>\n",
              "      <td>1</td>\n",
              "      <td>318.5</td>\n",
              "      <td>0.4188</td>\n",
              "      <td>8</td>\n",
              "      <td>298.8</td>\n",
              "      <td>0.5457</td>\n",
              "      <td>0.280393</td>\n",
              "      <td>0.177631</td>\n",
              "      <td>2019</td>\n",
              "      <td>12</td>\n",
              "      <td>31</td>\n",
              "    </tr>\n",
              "  </tbody>\n",
              "</table>\n",
              "<p>6972 rows × 12 columns</p>\n",
              "</div>"
            ],
            "text/plain": [
              "Date        BahiaBlanca_Rainfall  MJOPhase_OLR  ...  Month  Day\n",
              "1980-01-01                   0.0             5  ...      1    1\n",
              "1980-01-02                   0.0             5  ...      1    2\n",
              "1980-01-03                   0.0             5  ...      1    3\n",
              "1980-01-04                   0.0             6  ...      1    4\n",
              "1980-01-05                  18.0             6  ...      1    5\n",
              "...                          ...           ...  ...    ...  ...\n",
              "2019-12-20                   2.0             4  ...     12   20\n",
              "2019-12-21                   0.0             5  ...     12   21\n",
              "2019-12-28                   0.0             7  ...     12   28\n",
              "2019-12-30                   5.1             8  ...     12   30\n",
              "2019-12-31                  11.9             1  ...     12   31\n",
              "\n",
              "[6972 rows x 12 columns]"
            ]
          },
          "metadata": {
            "tags": []
          },
          "execution_count": 25
        }
      ]
    },
    {
      "cell_type": "code",
      "metadata": {
        "id": "und268m24e6O",
        "colab_type": "code",
        "outputId": "b59cab27-b41c-49dd-aeca-482d0ab75eaf",
        "colab": {
          "base_uri": "https://localhost:8080/",
          "height": 320
        }
      },
      "source": [
        "features.describe()"
      ],
      "execution_count": 26,
      "outputs": [
        {
          "output_type": "execute_result",
          "data": {
            "text/html": [
              "<div>\n",
              "<style scoped>\n",
              "    .dataframe tbody tr th:only-of-type {\n",
              "        vertical-align: middle;\n",
              "    }\n",
              "\n",
              "    .dataframe tbody tr th {\n",
              "        vertical-align: top;\n",
              "    }\n",
              "\n",
              "    .dataframe thead th {\n",
              "        text-align: right;\n",
              "    }\n",
              "</style>\n",
              "<table border=\"1\" class=\"dataframe\">\n",
              "  <thead>\n",
              "    <tr style=\"text-align: right;\">\n",
              "      <th>Date</th>\n",
              "      <th>BahiaBlanca_Rainfall</th>\n",
              "      <th>MJOPhase_OLR</th>\n",
              "      <th>MJOLongitude_OLR</th>\n",
              "      <th>MJOAmplitude_OLR</th>\n",
              "      <th>MJOPhase_Chi200</th>\n",
              "      <th>MJOLongitude_Chi200</th>\n",
              "      <th>MJOAmplitude_Chi200</th>\n",
              "      <th>ERA5_Soil_Moisture_Lev1</th>\n",
              "      <th>ERA5_Soil_Moisture_Lev2</th>\n",
              "      <th>Year</th>\n",
              "      <th>Month</th>\n",
              "      <th>Day</th>\n",
              "    </tr>\n",
              "  </thead>\n",
              "  <tbody>\n",
              "    <tr>\n",
              "      <th>count</th>\n",
              "      <td>6972.000000</td>\n",
              "      <td>6972.000000</td>\n",
              "      <td>6972.000000</td>\n",
              "      <td>6972.000000</td>\n",
              "      <td>6972.000000</td>\n",
              "      <td>6972.000000</td>\n",
              "      <td>6972.000000</td>\n",
              "      <td>6972.000000</td>\n",
              "      <td>6972.000000</td>\n",
              "      <td>6972.000000</td>\n",
              "      <td>6972.000000</td>\n",
              "      <td>6972.000000</td>\n",
              "    </tr>\n",
              "    <tr>\n",
              "      <th>mean</th>\n",
              "      <td>2.870554</td>\n",
              "      <td>4.441193</td>\n",
              "      <td>179.069148</td>\n",
              "      <td>1.236037</td>\n",
              "      <td>4.523810</td>\n",
              "      <td>177.512177</td>\n",
              "      <td>1.248430</td>\n",
              "      <td>0.217603</td>\n",
              "      <td>0.208701</td>\n",
              "      <td>1997.337780</td>\n",
              "      <td>6.581756</td>\n",
              "      <td>15.727625</td>\n",
              "    </tr>\n",
              "    <tr>\n",
              "      <th>std</th>\n",
              "      <td>9.056040</td>\n",
              "      <td>2.286059</td>\n",
              "      <td>104.737439</td>\n",
              "      <td>0.675765</td>\n",
              "      <td>2.282107</td>\n",
              "      <td>103.815770</td>\n",
              "      <td>0.659275</td>\n",
              "      <td>0.058850</td>\n",
              "      <td>0.050359</td>\n",
              "      <td>10.714869</td>\n",
              "      <td>3.500935</td>\n",
              "      <td>8.804722</td>\n",
              "    </tr>\n",
              "    <tr>\n",
              "      <th>min</th>\n",
              "      <td>0.000000</td>\n",
              "      <td>1.000000</td>\n",
              "      <td>0.000000</td>\n",
              "      <td>0.017200</td>\n",
              "      <td>1.000000</td>\n",
              "      <td>0.100000</td>\n",
              "      <td>0.008200</td>\n",
              "      <td>0.100368</td>\n",
              "      <td>0.115006</td>\n",
              "      <td>1980.000000</td>\n",
              "      <td>1.000000</td>\n",
              "      <td>1.000000</td>\n",
              "    </tr>\n",
              "    <tr>\n",
              "      <th>25%</th>\n",
              "      <td>0.000000</td>\n",
              "      <td>2.000000</td>\n",
              "      <td>89.775000</td>\n",
              "      <td>0.716800</td>\n",
              "      <td>3.000000</td>\n",
              "      <td>87.075000</td>\n",
              "      <td>0.751300</td>\n",
              "      <td>0.167342</td>\n",
              "      <td>0.168814</td>\n",
              "      <td>1989.000000</td>\n",
              "      <td>3.000000</td>\n",
              "      <td>8.000000</td>\n",
              "    </tr>\n",
              "    <tr>\n",
              "      <th>50%</th>\n",
              "      <td>0.000000</td>\n",
              "      <td>4.000000</td>\n",
              "      <td>175.250000</td>\n",
              "      <td>1.144300</td>\n",
              "      <td>4.000000</td>\n",
              "      <td>177.100000</td>\n",
              "      <td>1.174900</td>\n",
              "      <td>0.217739</td>\n",
              "      <td>0.203565</td>\n",
              "      <td>1996.000000</td>\n",
              "      <td>7.000000</td>\n",
              "      <td>16.000000</td>\n",
              "    </tr>\n",
              "    <tr>\n",
              "      <th>75%</th>\n",
              "      <td>1.000000</td>\n",
              "      <td>6.000000</td>\n",
              "      <td>269.925000</td>\n",
              "      <td>1.662525</td>\n",
              "      <td>7.000000</td>\n",
              "      <td>267.400000</td>\n",
              "      <td>1.656475</td>\n",
              "      <td>0.263776</td>\n",
              "      <td>0.244602</td>\n",
              "      <td>2005.000000</td>\n",
              "      <td>10.000000</td>\n",
              "      <td>23.000000</td>\n",
              "    </tr>\n",
              "    <tr>\n",
              "      <th>max</th>\n",
              "      <td>142.000000</td>\n",
              "      <td>8.000000</td>\n",
              "      <td>359.900000</td>\n",
              "      <td>3.995100</td>\n",
              "      <td>8.000000</td>\n",
              "      <td>360.000000</td>\n",
              "      <td>3.888200</td>\n",
              "      <td>0.357575</td>\n",
              "      <td>0.355990</td>\n",
              "      <td>2019.000000</td>\n",
              "      <td>12.000000</td>\n",
              "      <td>31.000000</td>\n",
              "    </tr>\n",
              "  </tbody>\n",
              "</table>\n",
              "</div>"
            ],
            "text/plain": [
              "Date   BahiaBlanca_Rainfall  MJOPhase_OLR  ...        Month          Day\n",
              "count           6972.000000   6972.000000  ...  6972.000000  6972.000000\n",
              "mean               2.870554      4.441193  ...     6.581756    15.727625\n",
              "std                9.056040      2.286059  ...     3.500935     8.804722\n",
              "min                0.000000      1.000000  ...     1.000000     1.000000\n",
              "25%                0.000000      2.000000  ...     3.000000     8.000000\n",
              "50%                0.000000      4.000000  ...     7.000000    16.000000\n",
              "75%                1.000000      6.000000  ...    10.000000    23.000000\n",
              "max              142.000000      8.000000  ...    12.000000    31.000000\n",
              "\n",
              "[8 rows x 12 columns]"
            ]
          },
          "metadata": {
            "tags": []
          },
          "execution_count": 26
        }
      ]
    },
    {
      "cell_type": "markdown",
      "metadata": {
        "id": "5PuoflIoq2i3",
        "colab_type": "text"
      },
      "source": [
        "## Model Features and Labels"
      ]
    },
    {
      "cell_type": "code",
      "metadata": {
        "id": "id9vv2Oe4e6h",
        "colab_type": "code",
        "colab": {}
      },
      "source": [
        "# Separating columns into features and labels, then performing randomized splitting into training (70%) and testing (30%) datasets\n",
        "labels = features['BahiaBlanca_Rainfall'].to_numpy() # Y\n",
        "feats = features.drop(columns = ['BahiaBlanca_Rainfall']).to_numpy() # X\n",
        "train_features, test_features, train_labels, test_labels = train_test_split(feats, labels, test_size = 0.3, random_state = 42)\n",
        "\n",
        "# Save feature list for variable importance later on\n",
        "featlist = features.drop(columns = ['BahiaBlanca_Rainfall'])\n",
        "feature_list = list(featlist.columns)"
      ],
      "execution_count": 0,
      "outputs": []
    },
    {
      "cell_type": "markdown",
      "metadata": {
        "id": "ngZk26AenQ4O",
        "colab_type": "text"
      },
      "source": [
        "## Function to create climatological probability for Brier Skill Score (ONLY IF DOING CLASSIFICATION)"
      ]
    },
    {
      "cell_type": "code",
      "metadata": {
        "id": "_FGCqwXkjf00",
        "colab_type": "code",
        "colab": {}
      },
      "source": [
        "# Calculate climatology probability\n",
        "# def climate_probability(label, shape):\n",
        "#     clim = (np.size(np.where(label == 1)))/float(len(label))\n",
        "#     probability = np.zeros((shape))\n",
        "#     probability[:,0] = 1 - clim\n",
        "#     probability[:,1] = clim\n",
        "#     return probability"
      ],
      "execution_count": 0,
      "outputs": []
    },
    {
      "cell_type": "markdown",
      "metadata": {
        "id": "-oFYNJe74e6w",
        "colab_type": "text"
      },
      "source": [
        "## Now run the Random Forest model!"
      ]
    },
    {
      "cell_type": "code",
      "metadata": {
        "id": "y_qjAqSS4e7G",
        "colab_type": "code",
        "colab": {}
      },
      "source": [
        "# Let's check how well the 'base prediction' does\n",
        "#print('Root Mean Square Error:', round(sqrt(mean_squared_error(test_labels, test_features)), 2), 'mm')"
      ],
      "execution_count": 0,
      "outputs": []
    },
    {
      "cell_type": "code",
      "metadata": {
        "id": "yM9HgTwg-AAb",
        "colab_type": "code",
        "colab": {
          "base_uri": "https://localhost:8080/",
          "height": 243
        },
        "outputId": "0d14c22d-b0a1-4bdc-dbaa-380e75eccc25"
      },
      "source": [
        "from sklearn.model_selection import RandomizedSearchCV\n",
        "\n",
        "n_estimators = [int(x) for x in np.linspace(start = 200, stop = 2000, num = 10)]\n",
        "\n",
        "# Number of features to consider at every split\n",
        "max_features = ['auto', 'sqrt']\n",
        "\n",
        "# Maximum number of levels in tree\n",
        "max_depth = [int(x) for x in np.linspace(10, 110, num = 11)]\n",
        "max_depth.append(None)\n",
        "\n",
        "# Minimum number of samples required to split a node\n",
        "min_samples_split = [2, 5, 10]\n",
        "\n",
        "# Minimum number of samples required at each leaf node\n",
        "min_samples_leaf = [1, 2, 4]\n",
        "\n",
        "# Method of selecting samples for training each tree\n",
        "bootstrap = [True, False]# Create the random grid\n",
        "\n",
        "random_grid = {'n_estimators': n_estimators,\n",
        "               'max_depth': max_depth,\n",
        "               'max_features': ['auto', 'sqrt'],\n",
        "               'min_samples_split': min_samples_split,\n",
        "               'min_samples_leaf': min_samples_leaf,\n",
        "               'bootstrap': bootstrap}\n",
        "\n",
        "from pprint import pprint\n",
        "pprint(random_grid)\n",
        "\n",
        "\n",
        "# Use the random grid to search for best hyperparameters\n",
        "# First create the base model to tune\n",
        "rf = RandomForestRegressor()\n",
        "\n",
        "# Random search of parameters, using 3 fold cross validation, search across 100 different combinations, and use all available cores\n",
        "rf_random = RandomizedSearchCV(estimator = rf, param_distributions = random_grid, n_iter = 100, cv = 3, verbose=2, random_state=42, n_jobs = -1)\n",
        "\n",
        "# Train the Random search model on training data\n",
        "rf_random.fit(train_features, train_labels)"
      ],
      "execution_count": 0,
      "outputs": [
        {
          "output_type": "stream",
          "text": [
            "{'bootstrap': [True, False],\n",
            " 'max_depth': [10, 20, 30, 40, 50, 60, 70, 80, 90, 100, 110, None],\n",
            " 'max_features': ['auto', 'sqrt'],\n",
            " 'min_samples_leaf': [1, 2, 4],\n",
            " 'min_samples_split': [2, 5, 10],\n",
            " 'n_estimators': [200, 400, 600, 800, 1000, 1200, 1400, 1600, 1800, 2000]}\n",
            "Fitting 3 folds for each of 100 candidates, totalling 300 fits\n"
          ],
          "name": "stdout"
        },
        {
          "output_type": "stream",
          "text": [
            "[Parallel(n_jobs=-1)]: Using backend LokyBackend with 2 concurrent workers.\n",
            "/usr/local/lib/python3.6/dist-packages/joblib/externals/loky/process_executor.py:706: UserWarning: A worker stopped while some jobs were given to the executor. This can be caused by a too short worker timeout or by a memory leak.\n",
            "  \"timeout or by a memory leak.\", UserWarning\n",
            "[Parallel(n_jobs=-1)]: Done  37 tasks      | elapsed:  9.0min\n"
          ],
          "name": "stderr"
        }
      ]
    },
    {
      "cell_type": "code",
      "metadata": {
        "id": "3KLcEtAksg0i",
        "colab_type": "code",
        "colab": {
          "base_uri": "https://localhost:8080/",
          "height": 174
        },
        "outputId": "148f29e9-7678-4312-d4a1-918da0f8e68c"
      },
      "source": [
        "# Best hyperparameters determined by random search of 300 hyperparameter combinations\n",
        "rf_random.best_params_"
      ],
      "execution_count": 73,
      "outputs": [
        {
          "output_type": "error",
          "ename": "AttributeError",
          "evalue": "ignored",
          "traceback": [
            "\u001b[0;31m---------------------------------------------------------------------------\u001b[0m",
            "\u001b[0;31mAttributeError\u001b[0m                            Traceback (most recent call last)",
            "\u001b[0;32m<ipython-input-73-ea266b0743c6>\u001b[0m in \u001b[0;36m<module>\u001b[0;34m()\u001b[0m\n\u001b[0;32m----> 1\u001b[0;31m \u001b[0mrf_random\u001b[0m\u001b[0;34m.\u001b[0m\u001b[0mbest_params_\u001b[0m\u001b[0;34m\u001b[0m\u001b[0;34m\u001b[0m\u001b[0m\n\u001b[0m",
            "\u001b[0;31mAttributeError\u001b[0m: 'RandomizedSearchCV' object has no attribute 'best_params_'"
          ]
        }
      ]
    },
    {
      "cell_type": "code",
      "metadata": {
        "id": "OTXEoCBLkcXf",
        "colab_type": "code",
        "colab": {}
      },
      "source": [
        "## ONLY IF DOING CLASSIFICATION\n",
        "\n",
        "# rf = RandomForestClassifier(n_estimators = 1600, random_state = 42, max_depth = 80, max_features = 'auto', min_samples_leaf = 1, min_samples_split = 3, bootstrap = True)\n",
        "#rf = RandomForestClassifier(n_estimators = 100, random_state = 42)\n",
        "#rf.fit(train_features, train_labels)\n",
        "\n",
        "# training_probability = rf.predict_proba(train_features)\n",
        "# testing_probability = rf.predict_proba(test_features)\n",
        "\n",
        "# print('Training Score: ' + str(rf.score(train_features, train_labels)))\n",
        "# print('Testing Score: ' + str(rf.score(test_features, test_labels)))\n",
        "\n",
        "# print('Training Brier Score: ' + str(brier_score_loss(train_labels, rf.predict(train_features))))\n",
        "# print('Testing Brier Score: ' + str(brier_score_loss(test_labels, rf.predict(test_features))))"
      ],
      "execution_count": 0,
      "outputs": []
    },
    {
      "cell_type": "code",
      "metadata": {
        "id": "LS2voAyXkriD",
        "colab_type": "code",
        "colab": {}
      },
      "source": [
        "## ONLY IF DOING CLASSIFICATION\n",
        "\n",
        "# training_climprob = climate_probability(train_labels, np.shape(training_probability))\n",
        "# testing_climprob = climate_probability(test_labels, np.shape(testing_probability))\n",
        "\n",
        "# # Calculate the Brier Skill Score for training and testing data\n",
        "# training_bss = 1 - (brier_score_loss(train_labels, training_probability[:,1]) / brier_score_loss(train_labels, training_climprob[:,1]))\n",
        "# testing_bss = 1 - (brier_score_loss(test_labels, testing_probability[:,1]) / brier_score_loss(test_labels, testing_climprob[:,1]))\n",
        "\n",
        "# print('Training Brier Skill Score: ' + str(training_bss))\n",
        "# print('Testing Brier Skill Score: ' + str(testing_bss))"
      ],
      "execution_count": 0,
      "outputs": []
    },
    {
      "cell_type": "code",
      "metadata": {
        "id": "VBsjHvkK4e7V",
        "colab_type": "code",
        "colab": {}
      },
      "source": [
        "# Instantiate model\n",
        "rf = RandomForestRegressor(n_estimators = 1600, random_state = 42, max_depth = 80, max_features = 'sqrt', min_samples_leaf = 1, min_samples_split = 3, bootstrap = True)\n",
        "\n",
        "# Choose the columns we want to use in the regression!!!\n",
        "# column_names_tmax  = ['TMAX','TMIN','tmpc','dwpc','WMAX','day','Avg DWPDEP(C)','Max DWPDEP(C)','Avg LCLD(%)','Avg HCLD(%)','Avg PRES(hPa)','Avg 850hPa DWPDEP(C)','Max 850hPa TMPC',\n",
        "#                       'Min 925hPa TMPC','Max 925hPa TMPC','Min 250hPa WSPD(m/s)','Min 850hPa WSPD(m/s)']\n",
        "# train_vars_tmax = new_features.query('year < 2019')[column_names_tmax] # Get the columns for training\n",
        "# test_vars_tmax = new_features.query('year == 2019')[column_names_tmax] # Get the columns for testing\n",
        "\n",
        "# Use the random grid to search for best hyperparameters\n",
        "# First create the base model to tune\n",
        "#rf = RandomForestRegressor()\n",
        "\n",
        "# Random search of parameters, using 3 fold cross validation, search across 100 different combinations, and use all available cores\n",
        "#rf_random = RandomizedSearchCV(estimator = rf, param_distributions = random_grid, n_iter = 100, cv = 3, verbose=2, random_state=42, n_jobs = -1)\n",
        "\n",
        "# Train the model on training data\n",
        "rf.fit(train_features, train_labels);\n",
        "\n",
        "#rf_random.best_params_\n",
        "#n_estimators = 1600, random_state = 42, max_depth = 80, max_features = 'sqrt', min_samples_leaf = 4, min_samples_split = 2, bootstrap = True"
      ],
      "execution_count": 0,
      "outputs": []
    },
    {
      "cell_type": "code",
      "metadata": {
        "id": "ojJlKgtn4e7a",
        "colab_type": "code",
        "outputId": "00e797f9-0791-4af5-f7a3-c9bc17bfd8eb",
        "colab": {
          "base_uri": "https://localhost:8080/",
          "height": 36
        }
      },
      "source": [
        "# Use the forest's predict method on the test data\n",
        "#best_random = rf_random.best_estimator_\n",
        "predictions = rf.predict(test_features)\n",
        "\n",
        "# Print out the root mean square error (rmse)\n",
        "print('Root Mean Square Error:', round(sqrt(mean_squared_error(test_labels, predictions)), 2), 'mm')"
      ],
      "execution_count": 57,
      "outputs": [
        {
          "output_type": "stream",
          "text": [
            "Root Mean Square Error: 7.84 mm\n"
          ],
          "name": "stdout"
        }
      ]
    },
    {
      "cell_type": "code",
      "metadata": {
        "id": "NcQfPRZu4e7g",
        "colab_type": "code",
        "outputId": "1ab1c1a2-7c76-46ff-980d-51e6a83f2b8e",
        "colab": {
          "base_uri": "https://localhost:8080/",
          "height": 223
        }
      },
      "source": [
        "# Get numerical feature importances\n",
        "importances = list(rf.feature_importances_)\n",
        "\n",
        "# List of tuples with variable and importance\n",
        "feature_importances = [(feature, round(importance, 2)) for feature, importance in zip(feature_list, importances)]\n",
        "\n",
        "# Sort the feature importances by most important first\n",
        "feature_importances = sorted(feature_importances, key = lambda x: x[1], reverse = True)\n",
        "\n",
        "# Print out the feature and importances \n",
        "[print('Variable: {:20} Importance: {}'.format(*pair)) for pair in feature_importances];"
      ],
      "execution_count": 65,
      "outputs": [
        {
          "output_type": "stream",
          "text": [
            "Variable: ERA5_Soil_Moisture_Lev1 Importance: 0.25\n",
            "Variable: ERA5_Soil_Moisture_Lev2 Importance: 0.18\n",
            "Variable: MJOAmplitude_OLR     Importance: 0.11\n",
            "Variable: MJOAmplitude_Chi200  Importance: 0.1\n",
            "Variable: MJOLongitude_OLR     Importance: 0.08\n",
            "Variable: MJOLongitude_Chi200  Importance: 0.08\n",
            "Variable: Year                 Importance: 0.06\n",
            "Variable: Day                  Importance: 0.06\n",
            "Variable: Month                Importance: 0.05\n",
            "Variable: MJOPhase_OLR         Importance: 0.03\n",
            "Variable: MJOPhase_Chi200      Importance: 0.03\n"
          ],
          "name": "stdout"
        }
      ]
    },
    {
      "cell_type": "code",
      "metadata": {
        "id": "Wgk6ZMbm4e8i",
        "colab_type": "code",
        "outputId": "bd366d6e-4db7-4652-d4b3-00693620418a",
        "colab": {
          "base_uri": "https://localhost:8080/",
          "height": 334
        }
      },
      "source": [
        "# Do the plot\n",
        "fig, ax = plt.subplots(figsize = (12,5))\n",
        "ax.plot(test_labels, 'ro')\n",
        "ax.plot(predictions, 'b-')\n",
        "ax.set_xlabel('Testing Data Points')\n",
        "ax.set_ylabel('Total Precipitation (mm)')\n",
        "plt.show()"
      ],
      "execution_count": 69,
      "outputs": [
        {
          "output_type": "display_data",
          "data": {
            "image/png": "[encoded data removed]",
            "text/plain": [
              "<Figure size 864x360 with 1 Axes>"
            ]
          },
          "metadata": {
            "tags": [],
            "needs_background": "light"
          }
        }
      ]
    },
    {
      "cell_type": "code",
      "metadata": {
        "id": "592oVVqzqZy7",
        "colab_type": "code",
        "colab": {}
      },
      "source": [
        ""
      ],
      "execution_count": 0,
      "outputs": []
    }
  ]
}