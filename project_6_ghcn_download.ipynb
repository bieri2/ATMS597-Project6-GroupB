{
  "nbformat": 4,
  "nbformat_minor": 0,
  "metadata": {
    "colab": {
      "name": "project_6_ghcn_download.ipynb",
      "provenance": [],
      "mount_file_id": "1abf8LpCUaN6tYso_dtQG7HQ7bLgt28QM",
      "authorship_tag": "ABX9TyPTQRxeDD2m0/SWkzU0mrZB",
      "include_colab_link": true
    },
    "kernelspec": {
      "name": "python3",
      "display_name": "Python 3"
    }
  },
  "cells": [
    {
      "cell_type": "markdown",
      "metadata": {
        "id": "view-in-github",
        "colab_type": "text"
      },
      "source": [
        "<a href=\"https://colab.research.google.com/github/bieri2/ATMS597-Project6-GroupB/blob/master/project_6_ghcn_download.ipynb\" target=\"_parent\"><img src=\"https://colab.research.google.com/assets/colab-badge.svg\" alt=\"Open In Colab\"/></a>"
      ]
    },
    {
      "cell_type": "code",
      "metadata": {
        "id": "mW4rrs3n87MP",
        "colab_type": "code",
        "colab": {}
      },
      "source": [
        "# Import necessary modules\n",
        "import numpy as np\n",
        "import requests\n",
        "import pandas as pd\n",
        "import calendar\n",
        "import seaborn as sns\n",
        "import datetime\n",
        "import matplotlib.pyplot as plt\n",
        "from   matplotlib.pyplot import cm\n",
        "import matplotlib as mpl"
      ],
      "execution_count": 0,
      "outputs": []
    },
    {
      "cell_type": "code",
      "metadata": {
        "id": "hIfNi3Bd840F",
        "colab_type": "code",
        "colab": {}
      },
      "source": [
        "# Define function to download data from NCEI\n",
        "# Function adapted from Stefanie Moline: https://github.com/stefmolin/Hands-On-Data-Analysis-with-Pandas/\n",
        "\n",
        "def make_request(endpoint, token, payload=None):\n",
        "    \"\"\"\n",
        "    Make a request to a specific endpoint on the NCDC Web API\n",
        "    passing headers and optional payload.\n",
        "    \n",
        "    Parameters:\n",
        "        - endpoint : The endpoint of the API you want to \n",
        "                    make a GET request to (string).\n",
        "        - token : User-specific access token from NCEI (string)\n",
        "        - payload : A dictionary of data to pass along \n",
        "                   with the request.\n",
        "    \n",
        "    Returns:\n",
        "        Response object.\n",
        "    \"\"\"\n",
        "    return requests.get(\n",
        "        f'https://www.ncdc.noaa.gov/cdo-web/api/v2/{endpoint}',\n",
        "        headers={\n",
        "            'token': token \n",
        "        },\n",
        "        params=payload\n",
        "    )"
      ],
      "execution_count": 0,
      "outputs": []
    },
    {
      "cell_type": "code",
      "metadata": {
        "id": "5zge1A5X87KN",
        "colab_type": "code",
        "colab": {}
      },
      "source": [
        "def get_ghcn(stationid, token, start, end):\n",
        "    \"\"\"\n",
        "    A Python function that takes in a station ID, start year, and\n",
        "    end year and downloads the necessary data from\n",
        "    the Global Historical Climatology Network.\n",
        "    \n",
        "    Parameters:\n",
        "        - stationid (string) : Station ID.\n",
        "        - token (string) : User-specific access token from NCEI.\n",
        "        - start (integer) : Start year.\n",
        "        - end (integer) : End year.\n",
        "    \n",
        "    Returns:\n",
        "        GHCN dataset as specified that can then be read as a dataframe.\n",
        "    \"\"\" \n",
        "    \n",
        "    # Define empty list\n",
        "    results = []\n",
        "    for i in range(start, end):\n",
        "        print('fetching data for ' + str(i))\n",
        "        response = make_request(\n",
        "                  'data', token, \n",
        "                   {\n",
        "                  'datasetid' : 'GHCND', # Global Historical Climatology Network - Daily (GHCND) dataset\n",
        "                  'stationid' : f'{stationid}', # Input station ID\n",
        "                  'startdate' : datetime.date(i, 1, 1), # Input start date as Datetime object\n",
        "                  'enddate'   : datetime.date(i, 12, 31), # Input end date as Datetime object\n",
        "                  'datatypeid': ['PRCP'], # Input requested variables\n",
        "                  'units'     : 'metric', \n",
        "                  'limit'     : 1000\n",
        "                   }\n",
        "          )\n",
        "\n",
        "        if response.ok:\n",
        "            # we extend the list instead of appending to avoid getting a nested list\n",
        "            try:\n",
        "                results.extend(response.json()['results'])\n",
        "            except KeyError:\n",
        "                print('No results for this year: ' + str(i))\n",
        "                continue\n",
        "\n",
        "    return results"
      ],
      "execution_count": 0,
      "outputs": []
    },
    {
      "cell_type": "code",
      "metadata": {
        "id": "yfciIKBX9uBD",
        "colab_type": "code",
        "colab": {}
      },
      "source": [
        "def make_dataframe(data):\n",
        "    '''\n",
        "    This function take the input data and returns a DataFrame for the purpose of \n",
        "    computing mean values and creating a Climate Stripes graph. \n",
        "\n",
        "    Parameters:\n",
        "        - data (list) : A list of dictionaries with TMAX and TMIN data returned from the stripes_inputs function.\n",
        "\n",
        "    Returns: \n",
        "        - df (DataFrame) : A pandas DataFrame with a DateTime index and TMAX and TMIN columns to be used to plot \n",
        "                 Climate Stripes.\n",
        "    '''\n",
        "    ## Create data-frame with all data:\n",
        "    df = pd.DataFrame(data)\n",
        "    ## Set date column as index\n",
        "    df = df.set_index(pd.to_datetime(df['date'])).drop(columns = 'date')\n",
        "\n",
        "    return df"
      ],
      "execution_count": 0,
      "outputs": []
    },
    {
      "cell_type": "code",
      "metadata": {
        "id": "KbZVd9Kk9H3K",
        "colab_type": "code",
        "outputId": "abf294eb-7443-4145-968b-63af5b729c72",
        "colab": {
          "base_uri": "https://localhost:8080/",
          "height": 683
        }
      },
      "source": [
        "## Execute code below if this is the main script\n",
        "if __name__ == '__main__':\n",
        "\n",
        "    ## Define user-specific token\n",
        "    token        = 'fqMFYJqPpWnQIARJzXBQhWPbYEtJwpoH'\n",
        "\n",
        "    ## Define start and end times\n",
        "    starttime = 1980\n",
        "    endtime   = 2020\n",
        "\n",
        "    ## Define station ID\n",
        "    stationid = 'GHCND:AR000877500' # Station in Uruguay\n",
        "    ## Read in data from GHCN\n",
        "    data      = get_ghcn(stationid, token, starttime, endtime)\n",
        "    ## Make properly formatted DataFrame\n",
        "    df        = make_dataframe(data)"
      ],
      "execution_count": 0,
      "outputs": [
        {
          "output_type": "stream",
          "text": [
            "fetching data for 1980\n",
            "fetching data for 1981\n",
            "fetching data for 1982\n",
            "fetching data for 1983\n",
            "fetching data for 1984\n",
            "fetching data for 1985\n",
            "fetching data for 1986\n",
            "fetching data for 1987\n",
            "fetching data for 1988\n",
            "fetching data for 1989\n",
            "fetching data for 1990\n",
            "fetching data for 1991\n",
            "fetching data for 1992\n",
            "fetching data for 1993\n",
            "fetching data for 1994\n",
            "fetching data for 1995\n",
            "fetching data for 1996\n",
            "fetching data for 1997\n",
            "fetching data for 1998\n",
            "fetching data for 1999\n",
            "fetching data for 2000\n",
            "fetching data for 2001\n",
            "fetching data for 2002\n",
            "fetching data for 2003\n",
            "fetching data for 2004\n",
            "fetching data for 2005\n",
            "fetching data for 2006\n",
            "fetching data for 2007\n",
            "fetching data for 2008\n",
            "fetching data for 2009\n",
            "fetching data for 2010\n",
            "fetching data for 2011\n",
            "fetching data for 2012\n",
            "fetching data for 2013\n",
            "fetching data for 2014\n",
            "fetching data for 2015\n",
            "fetching data for 2016\n",
            "fetching data for 2017\n",
            "fetching data for 2018\n",
            "fetching data for 2019\n"
          ],
          "name": "stdout"
        }
      ]
    },
    {
      "cell_type": "code",
      "metadata": {
        "id": "A2h5WWid-zPx",
        "colab_type": "code",
        "colab": {}
      },
      "source": [
        "df.to_csv('/content/drive/My Drive/Project6_Data/ghcn_data.csv')"
      ],
      "execution_count": 0,
      "outputs": []
    },
    {
      "cell_type": "code",
      "metadata": {
        "id": "7aSM1-wG1BUc",
        "colab_type": "code",
        "colab": {}
      },
      "source": [
        ""
      ],
      "execution_count": 0,
      "outputs": []
    }
  ]
}